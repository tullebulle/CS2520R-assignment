{
 "cells": [
  {
   "cell_type": "markdown",
   "metadata": {},
   "source": [
    "# Test Notebook"
   ]
  },
  {
   "cell_type": "markdown",
   "metadata": {},
   "source": [
    "In this notebook, we work through some functionalities, showing the validity of the implementation. Specifically, we show the STLC with the following extensions:\n",
    "- Binary operations (arithmetic and logical)\n",
    "- If then else\n",
    "- Conjunctive and disjunctive types (product and sum types)"
   ]
  },
  {
   "cell_type": "markdown",
   "metadata": {},
   "source": [
    "## Binary operations"
   ]
  },
  {
   "cell_type": "markdown",
   "metadata": {},
   "source": [
    "### Arithmetic operations"
   ]
  },
  {
   "cell_type": "code",
   "execution_count": 2,
   "metadata": {},
   "outputs": [
    {
     "name": "stdout",
     "output_type": "stream",
     "text": [
      "Type-checking 42 + 10...\n",
      "Type: Int\n",
      "Result: 52\n"
     ]
    }
   ],
   "source": [
    "from files import *\n",
    "# Binary Operation: 42 + 10\n",
    "x = (42)\n",
    "y = (10)\n",
    "add_expr = BinOp(x, '+', y)  # 42 + 10\n",
    "\n",
    "# Type-check and evaluate\n",
    "print(\"Type-checking 42 + 10...\")\n",
    "\n",
    "add_type = type_check(add_expr, TypeContext())\n",
    "print(f\"Type: {add_type}\")  # Expected: Int\n",
    "add_result = eval_expr(add_expr, Env())\n",
    "print(f\"Result: {add_result}\")  # Expected: (52)"
   ]
  },
  {
   "cell_type": "code",
   "execution_count": 3,
   "metadata": {},
   "outputs": [
    {
     "name": "stdout",
     "output_type": "stream",
     "text": [
      "Type-checking 42 * 2...\n",
      "Type: Int\n",
      "Result: 84\n"
     ]
    }
   ],
   "source": [
    "# Binary Operation: 42 * 2\n",
    "mul_expr = BinOp(IntValue(42), '*', IntValue(2))  # 42 * 2\n",
    "\n",
    "# Type-check and evaluate\n",
    "print(\"Type-checking 42 * 2...\")\n",
    "\n",
    "mul_type = type_check(mul_expr, TypeContext())\n",
    "print(f\"Type: {mul_type}\")  # Expected: Int\n",
    "mul_result = eval_expr(mul_expr, Env())\n",
    "print(f\"Result: {mul_result}\")  # Expected: (84)"
   ]
  },
  {
   "cell_type": "markdown",
   "metadata": {},
   "source": [
    "### Logical operations"
   ]
  },
  {
   "cell_type": "code",
   "execution_count": 4,
   "metadata": {},
   "outputs": [
    {
     "name": "stdout",
     "output_type": "stream",
     "text": [
      "Type-checking true && false...\n",
      "Type: Bool\n",
      "Result: false\n"
     ]
    }
   ],
   "source": [
    "# Logical Operation: true && false\n",
    "bool_expr = BinOp((True), '&&', BoolValue(False))  # true && false\n",
    "\n",
    "# Type-check and evaluate\n",
    "print(\"Type-checking true && false...\")\n",
    "bool_type = type_check(bool_expr, TypeContext())\n",
    "print(f\"Type: {bool_type}\")  # Expected: Bool\n",
    "bool_result = eval_expr(bool_expr, Env())\n",
    "print(f\"Result: {bool_result}\")  # Expected: (False)"
   ]
  },
  {
   "cell_type": "code",
   "execution_count": 5,
   "metadata": {},
   "outputs": [
    {
     "name": "stdout",
     "output_type": "stream",
     "text": [
      "Type-checking true || false...\n",
      "Type: Bool\n",
      "Result: true\n"
     ]
    }
   ],
   "source": [
    "# Logical Operation: true || false\n",
    "or_expr = BinOp(BoolValue(True), '||', BoolValue(False))  # true || false\n",
    "\n",
    "# Type-check and evaluate\n",
    "print(\"Type-checking true || false...\")\n",
    "or_type = type_check(or_expr, TypeContext())\n",
    "print(f\"Type: {or_type}\")  # Expected: Bool\n",
    "or_result = eval_expr(or_expr, Env())\n",
    "print(f\"Result: {or_result}\")  # Expected: (True)"
   ]
  },
  {
   "cell_type": "markdown",
   "metadata": {},
   "source": [
    "## Function Application"
   ]
  },
  {
   "cell_type": "code",
   "execution_count": 6,
   "metadata": {},
   "outputs": [
    {
     "name": "stdout",
     "output_type": "stream",
     "text": [
      "Type-checking (λx: Int. x + 1)(5)...\n",
      "Type: Int\n",
      "Result: 6\n"
     ]
    }
   ],
   "source": [
    "# Define a lambda function: λx: Int. x + 1\n",
    "x_var = Var('x')\n",
    "lambda_expr = Abs('x', IntType(), BinOp(x_var, '+', IntValue(1)))  # λx: Int. x + 1\n",
    "\n",
    "# Apply the function to the value 5\n",
    "application = App(lambda_expr, IntValue(5))  # (λx. x + 1)(5)\n",
    "\n",
    "# Type-check and evaluate\n",
    "print(\"Type-checking (λx: Int. x + 1)(5)...\")\n",
    "app_type = type_check(application, TypeContext())\n",
    "print(f\"Type: {app_type}\")  # Expected: Int\n",
    "app_result = eval_expr(application, Env())\n",
    "print(f\"Result: {app_result}\")  # Expected: (6)"
   ]
  },
  {
   "cell_type": "markdown",
   "metadata": {},
   "source": [
    "### If statement"
   ]
  },
  {
   "cell_type": "code",
   "execution_count": 7,
   "metadata": {},
   "outputs": [
    {
     "name": "stdout",
     "output_type": "stream",
     "text": [
      "Type-checking (λx: Int. if x > 5 then true else false)(7)...\n",
      "Type: Bool\n",
      "Result: true\n"
     ]
    }
   ],
   "source": [
    "# Define a lambda function: λx: Int. if x > 5 then true else false\n",
    "cond_expr = If(BinOp(Var('x'), '>', IntValue(5)), BoolValue(True), BoolValue(False))  # if x > 5 then true else false\n",
    "lambda_cond_expr = Abs('x', IntType(), cond_expr)  # λx: Int. if x > 5 then true else false\n",
    "\n",
    "# Apply the function to the value 7\n",
    "application_cond = App(lambda_cond_expr, IntValue(7))  # (λx: Int. if x > 5 then true else false)(7)\n",
    "\n",
    "# Type-check and evaluate\n",
    "print(\"Type-checking (λx: Int. if x > 5 then true else false)(7)...\")\n",
    "\n",
    "cond_type = type_check(application_cond, TypeContext())\n",
    "print(f\"Type: {cond_type}\")  # Expected: Bool\n",
    "cond_result = eval_expr(application_cond, Env())\n",
    "print(f\"Result: {cond_result}\")  # Expected: (True)"
   ]
  },
  {
   "cell_type": "markdown",
   "metadata": {},
   "source": [
    "### Conjunctive types"
   ]
  },
  {
   "cell_type": "code",
   "execution_count": 16,
   "metadata": {},
   "outputs": [
    {
     "name": "stdout",
     "output_type": "stream",
     "text": [
      "Type of the pair: (Bool ∧ Int)\n",
      "Type of fst(pair): Bool\n",
      "Result of fst(pair): true\n",
      "Type of snd(pair): Int\n",
      "Result of snd(pair): 42\n"
     ]
    }
   ],
   "source": [
    "# Define types for testing\n",
    "bool_type = BoolType()\n",
    "int_type = IntType()\n",
    "\n",
    "# Create a pair (true, 42) of type (Bool ∧ Int)\n",
    "pair_expr = Pair(BoolValue(True), IntValue(42))\n",
    "\n",
    "# Type-check the pair expression\n",
    "context = TypeContext()\n",
    "try:\n",
    "    pair_type = type_check(pair_expr, context)\n",
    "    print(f\"Type of the pair: {pair_type}\")  # Expected: (Bool ∧ Int)\n",
    "except TypeError as e:\n",
    "    print(f\"Type error: {e}\")\n",
    "\n",
    "# Test extracting the first component using fst\n",
    "fst_expr = Fst(pair_expr)\n",
    "\n",
    "fst_type = type_check(fst_expr, context)\n",
    "print(f\"Type of fst(pair): {fst_type}\")  # Expected: Bool\n",
    "print(f\"Result of fst(pair): {eval_expr(fst_expr, Env())}\")  # Expected: (True)\n",
    "\n",
    "\n",
    "# Test extracting the second component using snd\n",
    "snd_expr = Snd(pair_expr)\n",
    "\n",
    "snd_type = type_check(snd_expr, context)\n",
    "print(f\"Type of snd(pair): {snd_type}\")  # Expected: Int\n",
    "print(f\"Result of snd(pair): {eval_expr(snd_expr, Env())}\")  # Expected: (42)"
   ]
  },
  {
   "cell_type": "markdown",
   "metadata": {},
   "source": [
    "### Disjunctive types"
   ]
  },
  {
   "cell_type": "code",
   "execution_count": 8,
   "metadata": {},
   "outputs": [
    {
     "name": "stdout",
     "output_type": "stream",
     "text": [
      "Type-checking case expression with inl(42)...\n",
      "Type: Int\n",
      "Result: 43\n"
     ]
    }
   ],
   "source": [
    "# Disjunction: Int ∨ Bool\n",
    "or_type = OrType(IntType(), BoolType())\n",
    "\n",
    "x = Var('x')\n",
    "context = TypeContext()\n",
    "context.add('x', IntType())\n",
    "env = Env()\n",
    "env.extend('x', IntValue(42))\n",
    "\n",
    "# Create inl(42) and inr(true)\n",
    "inl_expr = Inl(x, or_type)  # Left injection (Int)\n",
    "inr_expr = Inr(BoolValue(True), or_type)  # Right injection (Bool)\n",
    "\n",
    "# Define the case expression\n",
    "# case inl_expr of inl(x) => x + 1 | inr(y) => 0\n",
    "left_case = BinOp(x, '+', IntValue(1))  # x + 1\n",
    "right_case = IntValue(0)  # Just return 0\n",
    "case_expr = Case(inl_expr, left_case, right_case)\n",
    "\n",
    "\n",
    "\n",
    "# Type-check and evaluate the case expression\n",
    "print(\"Type-checking case expression with inl(42)...\")\n",
    "case_type = type_check(case_expr, context)  # Expected: Int\n",
    "case_result = eval_expr(case_expr, env)\n",
    "print(f\"Type: {case_type}\")\n",
    "print(f\"Result: {case_result}\")  # Expected: (43)"
   ]
  },
  {
   "cell_type": "markdown",
   "metadata": {},
   "source": [
    "# Proving propositional logic"
   ]
  },
  {
   "cell_type": "markdown",
   "metadata": {},
   "source": [
    "#### Proving (A ∧ B) → A"
   ]
  },
  {
   "cell_type": "code",
   "execution_count": 9,
   "metadata": {},
   "outputs": [
    {
     "name": "stdout",
     "output_type": "stream",
     "text": [
      "Proof type: ((Int ∧ Bool) -> Int)\n"
     ]
    }
   ],
   "source": [
    "from files import *\n",
    "\n",
    "# Define the types A and B\n",
    "A = IntType()\n",
    "B = BoolType()\n",
    "\n",
    "# The theorem we are proving: (A ∧ B) → A\n",
    "theorem_type = FuncType(AndType(A, B), A)\n",
    "\n",
    "# Define the proof: λp. fst(p)\n",
    "p = Var('p')  # p is the pair (A ∧ B)\n",
    "proof_term = Abs('p', AndType(A, B), Fst(p))  # λp: (A ∧ B). fst(p)\n",
    "\n",
    "# Type-check the proof\n",
    "context = TypeContext()\n",
    "result_type = type_check(proof_term, context)\n",
    "print(f\"Proof type: {result_type}\")  # Expected: (A ∧ B) → A"
   ]
  },
  {
   "cell_type": "code",
   "execution_count": 12,
   "metadata": {},
   "outputs": [
    {
     "name": "stdout",
     "output_type": "stream",
     "text": [
      "Proof type: (Int -> (Int ∨ Bool))\n"
     ]
    }
   ],
   "source": [
    "# The theorem we are proving: A → (A ∨ B)\n",
    "theorem_type = FuncType(A, OrType(A, B))\n",
    "\n",
    "# Define the proof: λa. inl(a)\n",
    "a = Var('a')\n",
    "inl_exp = Inl(a, OrType(A, B))\n",
    "proof_term = Abs('a', A, inl_exp)  # λa: A. inl(a)\n",
    "\n",
    "# Type-check the proof\n",
    "result_type = type_check(proof_term, context)\n",
    "print(f\"Proof type: {result_type}\")  # Expected: A → (A ∨ B)"
   ]
  },
  {
   "cell_type": "code",
   "execution_count": 13,
   "metadata": {},
   "outputs": [
    {
     "name": "stdout",
     "output_type": "stream",
     "text": [
      "Proof type: (((Int -> Int) ∧ (Bool -> Int)) -> ((Int ∨ Bool) -> Int))\n"
     ]
    }
   ],
   "source": [
    "# Define types A, B, and C\n",
    "A = IntType()\n",
    "B = BoolType()\n",
    "C = IntType()\n",
    "\n",
    "# The theorem we are proving: (A → C) ∧ (B → C) → (A ∨ B → C)\n",
    "theorem_type = FuncType(\n",
    "    AndType(FuncType(A, C), FuncType(B, C)),  # (A → C) ∧ (B → C)\n",
    "    FuncType(OrType(A, B), C)                 # (A ∨ B) → C\n",
    ")\n",
    "\n",
    "# Define the proof: λf. λx. case x of (a => fst(f)(a), b => snd(f)(b))\n",
    "f = Var('f')\n",
    "x = Var('x')\n",
    "left_case = App(Fst(f), Var('a'))  # Apply fst(f) to a\n",
    "right_case = App(Snd(f), Var('b'))  # Apply snd(f) to b\n",
    "case_expr = Case(x, left_case, right_case)  # case x of (a => fst(f)(a), b => snd(f)(b))\n",
    "proof_term = Abs('f', AndType(FuncType(A, C), FuncType(B, C)),\n",
    "                 Abs('x', OrType(A, B), case_expr))  # λf. λx. case x of ...\n",
    "\n",
    "# Type-check the proof\n",
    "\n",
    "result_type = type_check(proof_term, context)\n",
    "print(f\"Proof type: {result_type}\")  # Expected: ((A → C) ∧ (B → C)) → (A ∨ B) → C"
   ]
  }
 ],
 "metadata": {
  "kernelspec": {
   "display_name": "Python 3",
   "language": "python",
   "name": "python3"
  },
  "language_info": {
   "codemirror_mode": {
    "name": "ipython",
    "version": 3
   },
   "file_extension": ".py",
   "mimetype": "text/x-python",
   "name": "python",
   "nbconvert_exporter": "python",
   "pygments_lexer": "ipython3",
   "version": "3.8.12"
  }
 },
 "nbformat": 4,
 "nbformat_minor": 2
}
